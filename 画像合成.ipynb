{
  "cells": [
    {
      "cell_type": "code",
      "execution_count": null,
      "metadata": {
        "id": "J9iH-BQudZe4"
      },
      "outputs": [],
      "source": [
        "import cv2\n",
        "import numpy as np\n",
        "from matplotlib import pyplot as plt\n",
        "\n",
        "# 画像Aと画像Bの読込(BGR)\n",
        "imgA = cv2.imread(\"/content/drive/MyDrive/potato-jpg/aibs-potatos/originals/potato-aibs2.png\")\n",
        "imgB = cv2.imread(\"/content/drive/MyDrive/potato-jpg/aibs-potatos/originals/potato-aibs5.png\")\n",
        "# 画像のRチャンネル抽出\n",
        "imgA_R = imgA[:,:,2].astype(np.int16)\n",
        "imgB_R = imgB[:,:,2].astype(np.int16)\n",
        "imgA_B = imgA[:,:,0].astype(np.int16)\n",
        "imgB_B = imgB[:,:,0].astype(np.int16)\n",
        "imgA_G = imgA[:,:,1].astype(np.int16)\n",
        "imgB_G = imgB[:,:,1].astype(np.int16)"
      ]
    },
    {
      "cell_type": "code",
      "source": [
        "# 最大値、最小値、\n",
        "i_R = imgA_R\n",
        "i_B = imgA_B\n",
        "i_G = imgA_G\n",
        "max_value_iar = np.max(i_R)\n",
        "min_value_iar = np.min(i_R[i_R > 0])\n",
        "max_value_iab = np.max(i_B)\n",
        "min_value_iab = np.min(i_B[i_B > 0])\n",
        "max_value_iag = np.max(i_G)\n",
        "min_value_iag = np.min(i_G[i_G > 0])\n",
        "ib_R = imgB_R\n",
        "ib_B = imgB_B\n",
        "ib_G = imgB_G\n",
        "max_value_ibr = np.max(ib_R)\n",
        "min_value_ibr = np.min(ib_R[ib_R > 0])\n",
        "max_value_ibb = np.max(ib_B)\n",
        "min_value_ibb = np.min(ib_B[ib_B > 0])\n",
        "max_value_ibg = np.max(ib_G)\n",
        "min_value_ibg = np.min(ib_G[ib_G > 0])\n",
        "# 結果の出力\n",
        "print(f\"A:Rの最大値: {max_value_iar}\")\n",
        "print(f\"A:Rの最小値: {min_value_iar}\")\n",
        "print(f\"A:Bの最大値: {max_value_iab}\")\n",
        "print(f\"A:Bの最小値: {min_value_iab}\")\n",
        "print(f\"A:Gの最大値: {max_value_iag}\")\n",
        "print(f\"A:Gの最小値: {min_value_iag}\")\n",
        "print(f\"B:Rの最大値: {max_value_ibr}\")\n",
        "print(f\"B:Rの最小値: {min_value_ibr}\")\n",
        "print(f\"B:Bの最大値: {max_value_ibb}\")\n",
        "print(f\"B:Bの最小値: {min_value_ibb}\")\n",
        "print(f\"B:Gの最大値: {max_value_ibg}\")\n",
        "print(f\"B:Gの最小値: {min_value_ibg}\")"
      ],
      "metadata": {
        "id": "F3rpFSFEAta3",
        "colab": {
          "base_uri": "https://localhost:8080/"
        },
        "outputId": "baab4e34-6f67-49b5-8f42-399be8108f5c"
      },
      "execution_count": null,
      "outputs": [
        {
          "output_type": "stream",
          "name": "stdout",
          "text": [
            "A:Rの最大値: 255\n",
            "A:Rの最小値: 108\n",
            "A:Bの最大値: 195\n",
            "A:Bの最小値: 10\n",
            "A:Gの最大値: 255\n",
            "A:Gの最小値: 65\n",
            "B:Rの最大値: 255\n",
            "B:Rの最小値: 62\n",
            "B:Bの最大値: 129\n",
            "B:Bの最小値: 1\n",
            "B:Gの最大値: 219\n",
            "B:Gの最小値: 39\n"
          ]
        }
      ]
    },
    {
      "cell_type": "code",
      "source": [
        "nonzero_valuesAR = imgA_R[imgA_R != 0]  # 0以外の値を抽出\n",
        "nonzero_valuesAB = imgA_B[imgA_B != 0]\n",
        "nonzero_valuesAG = imgA_G[imgA_G != 0]\n",
        "mode_value_AR = np.argmax(np.bincount(nonzero_valuesAR))\n",
        "mode_value_AB = np.argmax(np.bincount(nonzero_valuesAB))\n",
        "mode_value_AG = np.argmax(np.bincount(nonzero_valuesAG))\n",
        "print(f\"0を除いたRch最頻値: {mode_value_AR}\")\n",
        "print(f\"0を除いたBch最頻値: {mode_value_AB}\")\n",
        "print(f\"0を除いたGch最頻値: {mode_value_AG}\")"
      ],
      "metadata": {
        "id": "zK39qTvKfbPX",
        "colab": {
          "base_uri": "https://localhost:8080/"
        },
        "outputId": "b894034e-f355-4b7a-de0b-2d9b7fc33881"
      },
      "execution_count": null,
      "outputs": [
        {
          "output_type": "stream",
          "name": "stdout",
          "text": [
            "0を除いたRch最頻値: 207\n",
            "0を除いたBch最頻値: 64\n",
            "0を除いたGch最頻値: 151\n"
          ]
        }
      ]
    },
    {
      "cell_type": "code",
      "execution_count": null,
      "metadata": {
        "id": "FA8DFFwhd4wx",
        "colab": {
          "base_uri": "https://localhost:8080/"
        },
        "outputId": "4198412c-ffbc-44e0-adfc-891f8cfd5c49"
      },
      "outputs": [
        {
          "output_type": "stream",
          "name": "stdout",
          "text": [
            "負の数の数 (Rチャンネル): 638\n",
            "負の数の数 (Bチャンネル): 114\n",
            "負の数の数 (Gチャンネル): 199\n",
            "Rチャンネルの最大値: 107\n",
            "Rチャンネルの最小値: 1\n",
            "Bチャンネルの最大値: 142\n",
            "Bチャンネルの最小値: 1\n",
            "Gチャンネルの最大値: 121\n",
            "Gチャンネルの最小値: 1\n"
          ]
        }
      ],
      "source": [
        "# A-B\n",
        "imgC_R = imgA_R - imgB_R\n",
        "imgC_B = imgA_B - imgB_B\n",
        "imgC_G = imgA_G - imgB_G\n",
        "# 負の数の数を数える\n",
        "count_neg_R = np.count_nonzero(imgC_R < 0)\n",
        "count_neg_B = np.count_nonzero(imgC_B < 0)\n",
        "count_neg_G = np.count_nonzero(imgC_G < 0)\n",
        "\n",
        "# 結果の表示\n",
        "print(\"負の数の数 (Rチャンネル):\", count_neg_R)\n",
        "print(\"負の数の数 (Bチャンネル):\", count_neg_B)\n",
        "print(\"負の数の数 (Gチャンネル):\", count_neg_G)\n",
        "# 最大値、最小値、および0を除いた最頻値の計算\n",
        "max_value_r = np.max(imgC_R)\n",
        "min_value_r = np.min(imgC_R[imgC_R > 0])\n",
        "max_value_b = np.max(imgC_B)\n",
        "min_value_b = np.min(imgC_B[imgC_B > 0])\n",
        "max_value_g = np.max(imgC_G)\n",
        "min_value_g = np.min(imgC_G[imgC_G > 0])\n",
        "\n",
        "# 結果の出力\n",
        "print(f\"Rチャンネルの最大値: {max_value_r}\")\n",
        "print(f\"Rチャンネルの最小値: {min_value_r}\")\n",
        "print(f\"Bチャンネルの最大値: {max_value_b}\")\n",
        "print(f\"Bチャンネルの最小値: {min_value_b}\")\n",
        "print(f\"Gチャンネルの最大値: {max_value_g}\")\n",
        "print(f\"Gチャンネルの最小値: {min_value_g}\")"
      ]
    },
    {
      "cell_type": "code",
      "execution_count": null,
      "metadata": {
        "id": "3FhXdNa4jH9O",
        "colab": {
          "base_uri": "https://localhost:8080/"
        },
        "outputId": "2805f5d9-0371-469a-dcf5-ba16764b2455"
      },
      "outputs": [
        {
          "output_type": "stream",
          "name": "stdout",
          "text": [
            "負の数の数 (Rチャンネル): 549024\n",
            "負の数の数 (Bチャンネル): 549945\n",
            "負の数の数 (Gチャンネル): 549838\n",
            "Rチャンネルの最大値: 43\n",
            "Rチャンネルの最小値: 1\n",
            "Bチャンネルの最大値: 36\n",
            "Bチャンネルの最小値: 1\n",
            "Gチャンネルの最大値: 31\n",
            "Gチャンネルの最小値: 1\n"
          ]
        }
      ],
      "source": [
        "# B-A\n",
        "imgC_R = imgB_R - imgA_R\n",
        "imgC_B = imgB_B - imgA_B\n",
        "imgC_G = imgB_G - imgA_G\n",
        "# 負の数の数を数える\n",
        "count_neg_R = np.count_nonzero(imgC_R < 0)\n",
        "count_neg_B = np.count_nonzero(imgC_B < 0)\n",
        "count_neg_G = np.count_nonzero(imgC_G < 0)\n",
        "\n",
        "# 結果の表示\n",
        "print(\"負の数の数 (Rチャンネル):\", count_neg_R)\n",
        "print(\"負の数の数 (Bチャンネル):\", count_neg_B)\n",
        "print(\"負の数の数 (Gチャンネル):\", count_neg_G)\n",
        "# 最大値、最小値、および0を除いた最頻値の計算\n",
        "max_value_r = np.max(imgC_R)\n",
        "min_value_r = np.min(imgC_R[imgC_R > 0])\n",
        "max_value_b = np.max(imgC_B)\n",
        "min_value_b = np.min(imgC_B[imgC_B > 0])\n",
        "max_value_g = np.max(imgC_G)\n",
        "min_value_g = np.min(imgC_G[imgC_G > 0])\n",
        "\n",
        "# 結果の出力\n",
        "print(f\"Rチャンネルの最大値: {max_value_r}\")\n",
        "print(f\"Rチャンネルの最小値: {min_value_r}\")\n",
        "print(f\"Bチャンネルの最大値: {max_value_b}\")\n",
        "print(f\"Bチャンネルの最小値: {min_value_b}\")\n",
        "print(f\"Gチャンネルの最大値: {max_value_g}\")\n",
        "print(f\"Gチャンネルの最小値: {min_value_g}\")"
      ]
    },
    {
      "cell_type": "code",
      "source": [],
      "metadata": {
        "id": "dKRxduZ0RntT"
      },
      "execution_count": null,
      "outputs": []
    },
    {
      "cell_type": "code",
      "source": [
        "# ピクセル値を0-255の範囲に制限し逆数を計算\n",
        "imgC_R = np.clip(imgC_R, 0, 255)\n",
        "imgC_R = 1 / (imgC_R + 1)\n",
        "imgC_B = np.clip(imgC_B, 0, 255)\n",
        "imgC_B = 1 / (imgC_B + 1)\n",
        "imgC_G = np.clip(imgC_G, 0, 255)\n",
        "imgC_G = 1 / (imgC_G + 1)\n",
        "# 最大値、最小値、および0を除いた最頻値の計算\n",
        "max_value_r = np.max(imgC_R)\n",
        "min_value_r = np.min(imgC_R[imgC_R > 0])\n",
        "max_value_b = np.max(imgC_B)\n",
        "min_value_b = np.min(imgC_B[imgC_B > 0])\n",
        "max_value_g = np.max(imgC_G)\n",
        "min_value_g = np.min(imgC_G[imgC_G > 0])\n",
        "\n",
        "# 結果の出力\n",
        "print(f\"Rチャンネルの最大値: {max_value_r}\")\n",
        "print(f\"Rチャンネルの最小値: {min_value_r}\")\n",
        "print(f\"Bチャンネルの最大値: {max_value_b}\")\n",
        "print(f\"Bチャンネルの最小値: {min_value_b}\")\n",
        "print(f\"Gチャンネルの最大値: {max_value_g}\")\n",
        "print(f\"Gチャンネルの最小値: {min_value_g}\")"
      ],
      "metadata": {
        "id": "wIfJEsUC9BfQ",
        "colab": {
          "base_uri": "https://localhost:8080/"
        },
        "outputId": "e60d2a8d-8e8c-4f3d-b48e-911ed8919047"
      },
      "execution_count": null,
      "outputs": [
        {
          "output_type": "stream",
          "name": "stdout",
          "text": [
            "Rチャンネルの最大値: 1.0\n",
            "Rチャンネルの最小値: 0.009259259259259259\n",
            "Bチャンネルの最大値: 1.0\n",
            "Bチャンネルの最小値: 0.006993006993006993\n",
            "Gチャンネルの最大値: 1.0\n",
            "Gチャンネルの最小値: 0.00819672131147541\n"
          ]
        }
      ]
    },
    {
      "cell_type": "code",
      "source": [
        "# imgA_Rの値がmode_value_ARより低い値だけ残す\n",
        "imgA_R_filtered = np.where(imgA_R < mode_value_AR, imgA_R, 0)\n",
        "max_ARfiltered = np.max(imgA_R_filtered)\n",
        "print(f\"Rチャンネルの最大値: {max_ARfiltered}\")\n",
        "imgA_G_filtered = np.where(imgA_G < mode_value_AG, imgA_G, 0)\n",
        "max_AGfiltered = np.max(imgA_G_filtered)\n",
        "print(f\"Gチャンネルの最大値: {max_AGfiltered}\")\n",
        "imgA_B_filtered = np.where(imgA_B < mode_value_AB, imgA_B, 0)\n",
        "max_ABfiltered = np.max(imgA_B_filtered)\n",
        "print(f\"Bチャンネルの最大値: {max_ABfiltered}\")\n",
        "\n",
        "imgC_R = imgA_R_filtered\n",
        "imgC_G = imgA_G_filtered\n",
        "imgC_B = imgA_B_filtered"
      ],
      "metadata": {
        "id": "OX8vkmX_a1Zh"
      },
      "execution_count": null,
      "outputs": []
    },
    {
      "cell_type": "code",
      "source": [
        "nonzero_values = imgB[:,:,0][imgB[:,:,0] != 0]  # 0以外の値を抽出\n",
        "mode_value_b = np.argmax(np.bincount(nonzero_values))\n",
        "print(f\"Bチャンネルの0を除いた最頻値: {mode_value_b}\")\n"
      ],
      "metadata": {
        "colab": {
          "base_uri": "https://localhost:8080/"
        },
        "id": "r5j0r53dLNdC",
        "outputId": "ee499261-ecc2-46ad-9702-517872c1a7d5"
      },
      "execution_count": null,
      "outputs": [
        {
          "output_type": "stream",
          "name": "stdout",
          "text": [
            "Bチャンネルの0を除いた最頻値: 119\n"
          ]
        }
      ]
    },
    {
      "cell_type": "code",
      "source": [
        "# ピクセル値を0以上に制限\n",
        "imgC_R = np.clip(imgC_R, 0, None)\n",
        "imgC_G = np.clip(imgC_G, 0, None)\n",
        "imgC_B = np.clip(imgC_B, 0, None)\n",
        "\n",
        "# ピクセル値を標準化\n",
        "mean_val = np.mean(imgC_R)\n",
        "std_val = np.std(imgC_R)\n",
        "imgC_R = (imgC_R - mean_val) / std_val\n",
        "\n",
        "mean_val = np.mean(imgC_G)\n",
        "std_val = np.std(imgC_G)\n",
        "imgC_G = (imgC_G - mean_val) / std_val\n",
        "\n",
        "mean_val = np.mean(imgC_B)\n",
        "std_val = np.std(imgC_B)\n",
        "imgC_B = (imgC_B - mean_val) / std_val\n",
        "\n",
        "# ピクセル値を平均127にスケーリング\n",
        "target_mean = 0\n",
        "imgC_R = imgC_R * std_val + target_mean\n",
        "imgC_G = imgC_G * std_val + target_mean\n",
        "imgC_B = imgC_B * std_val + target_mean\n",
        "# 最大値、最小値、および0を除いた最頻値の計算\n",
        "max_value_r = np.max(imgC_R)\n",
        "min_value_r = np.min(imgC_R)\n",
        "max_value_b = np.max(imgC_B)\n",
        "min_value_b = np.min(imgC_B)\n",
        "max_value_g = np.max(imgC_G)\n",
        "min_value_g = np.min(imgC_G)\n",
        "\n",
        "# 結果の出力\n",
        "print(f\"Rチャンネルの最大値: {max_value_r}\")\n",
        "print(f\"Rチャンネルの最小値: {min_value_r}\")\n",
        "print(f\"Bチャンネルの最大値: {max_value_b}\")\n",
        "print(f\"Bチャンネルの最小値: {min_value_b}\")\n",
        "print(f\"Gチャンネルの最大値: {max_value_g}\")\n",
        "print(f\"Gチャンネルの最小値: {min_value_g}\")"
      ],
      "metadata": {
        "colab": {
          "base_uri": "https://localhost:8080/"
        },
        "id": "2AhbJUBTwFxp",
        "outputId": "0569060c-36d5-4ab7-8f13-b48838e2ac35"
      },
      "execution_count": null,
      "outputs": [
        {
          "output_type": "stream",
          "name": "stdout",
          "text": [
            "Rチャンネルの最大値: 131.55200695077372\n",
            "Rチャンネルの最小値: -2.496129984864297\n",
            "Bチャンネルの最大値: 139.46720441666668\n",
            "Bチャンネルの最小値: -2.5327955833333333\n",
            "Gチャンネルの最大値: 136.42102304120644\n",
            "Gチャンネルの最小値: -2.551490946871742\n"
          ]
        }
      ]
    },
    {
      "cell_type": "markdown",
      "source": [
        "Rチャンネル"
      ],
      "metadata": {
        "id": "FMSnYqYOBp0g"
      }
    },
    {
      "cell_type": "code",
      "execution_count": null,
      "metadata": {
        "id": "X71aGbabiWam",
        "colab": {
          "base_uri": "https://localhost:8080/",
          "height": 452
        },
        "outputId": "3bf7bd48-ad57-4219-e4c5-a410fe8aed24"
      },
      "outputs": [
        {
          "output_type": "stream",
          "name": "stdout",
          "text": [
            "Warning: Negative Rpixel values detected!\n"
          ]
        },
        {
          "output_type": "display_data",
          "data": {
            "text/plain": [
              "<Figure size 640x480 with 1 Axes>"
            ],
            "image/png": "[encoded data removed]"
          },
          "metadata": {}
        }
      ],
      "source": [
        "# マイナスのピクセル値があるかどうかをチェック\n",
        "if np.any(imgC_R < 0):\n",
        "    print(\"Warning: Negative Rpixel values detected!\")\n",
        "    # マイナスのピクセル値を持つ位置を取得\n",
        "    neg_pixels = imgC_R < 0\n",
        "    # 画像Bにマイナスのピクセル値をプロット\n",
        "    imgB[neg_pixels] = [0, 0, 255]  # 赤色でプロット\n",
        "\n",
        "    # 画像Bを表示\n",
        "    plt.imshow(cv2.cvtColor(imgB, cv2.COLOR_BGR2RGB))\n",
        "    plt.show()"
      ]
    },
    {
      "cell_type": "code",
      "source": [],
      "metadata": {
        "id": "k0RJQsFNDlLJ"
      },
      "execution_count": null,
      "outputs": []
    },
    {
      "cell_type": "code",
      "source": [
        "# マイナスのピクセル値があるかどうかをチェック\n",
        "if np.any(imgC_G < 0):\n",
        "    print(\"Warning: Negative Gpixel values detected!\")\n",
        "    # マイナスのピクセル値を持つ位置を取得\n",
        "    neg_pixels = imgC_G < 0\n",
        "    # 画像Bにマイナスのピクセル値をプロット\n",
        "    imgB[neg_pixels] = [0, 0, 255]  # 赤色でプロット\n",
        "\n",
        "    # 画像Bを表示\n",
        "    plt.imshow(cv2.cvtColor(imgB, cv2.COLOR_BGR2RGB))\n",
        "    plt.show()"
      ],
      "metadata": {
        "id": "tyC9vFR598HH"
      },
      "execution_count": null,
      "outputs": []
    },
    {
      "cell_type": "code",
      "execution_count": null,
      "metadata": {
        "id": "t6O-kvJIlBb7",
        "colab": {
          "base_uri": "https://localhost:8080/"
        },
        "outputId": "76582871-ee04-4fb3-f839-a926126d2b95"
      },
      "outputs": [
        {
          "output_type": "stream",
          "name": "stdout",
          "text": [
            "Rチャンネルの最大値: 106\n",
            "Rチャンネルの最小値: 1\n",
            "Bチャンネルの最大値: 106\n",
            "Bチャンネルの最小値: 1\n",
            "Gチャンネルの最大値: 107\n",
            "Gチャンネルの最小値: 1\n"
          ]
        }
      ],
      "source": [
        "# ピクセル値を0-255の範囲に制限\n",
        "imgC_R = np.clip(imgC_R, 0, 255)\n",
        "imgC_B = np.clip(imgC_B, 0, 255)\n",
        "imgC_G = np.clip(imgC_G, 0, 255)\n",
        "# データ型をuint8に戻す\n",
        "imgC_R = imgC_R.astype(np.uint8)\n",
        "imgC_B = imgC_B.astype(np.uint8)\n",
        "imgC_G = imgC_G.astype(np.uint8)\n",
        "# 画像Cを作成（初期状態ではすべてのピクセルが黒色）\n",
        "imgTR = np.zeros_like(imgA)\n",
        "imgTB = np.zeros_like(imgA)\n",
        "imgTG = np.zeros_like(imgA)\n",
        "imgC = np.zeros_like(imgA)\n",
        "# 画像CのBGRに相当するチャンネルをimgC_Rで置き換え\n",
        "imgTR[:,:,2] = imgC_R\n",
        "imgTB[:,:,0] = imgC_B\n",
        "imgTG[:,:,1] = imgC_G\n",
        "imgC[:,:,0] = imgC_B\n",
        "imgC[:,:,1] = imgC_G\n",
        "imgC[:,:,2] = imgC_R\n",
        "# 画像Cを保存\n",
        "cv2.imwrite(\"imageC_R1undermode.png\", imgTR)\n",
        "cv2.imwrite(\"imageC_B1undermode.png\", imgTB)\n",
        "cv2.imwrite(\"imageC_G1undermode.png\", imgTG)\n",
        "cv2.imwrite(\"imageC1undermode.png\", imgC)\n",
        "\n",
        "max_value_r = np.max(imgC_R)\n",
        "min_value_r = np.min(imgC_R[imgC_R > 0])\n",
        "max_value_b = np.max(imgC_B)\n",
        "min_value_b = np.min(imgC_B[imgC_B > 0])\n",
        "max_value_g = np.max(imgC_G)\n",
        "min_value_g = np.min(imgC_G[imgC_G > 0])\n",
        "\n",
        "# 結果の出力\n",
        "print(f\"Rチャンネルの最大値: {max_value_r}\")\n",
        "print(f\"Rチャンネルの最小値: {min_value_r}\")\n",
        "print(f\"Bチャンネルの最大値: {max_value_b}\")\n",
        "print(f\"Bチャンネルの最小値: {min_value_b}\")\n",
        "print(f\"Gチャンネルの最大値: {max_value_g}\")\n",
        "print(f\"Gチャンネルの最小値: {min_value_g}\")"
      ]
    },
    {
      "cell_type": "code",
      "source": [
        "# ピクセル値を0以上に制限\n",
        "imgC_R = np.clip(imgC_R, 0, None)\n",
        "imgC_G = np.clip(imgC_G, 0, None)\n",
        "imgC_B = np.clip(imgC_B, 0, None)\n",
        "# ピクセル値を0~255の範囲に正規化\n",
        "min_val = np.min(imgC_R)\n",
        "max_val = np.max(imgC_R)\n",
        "imgC_R = ((imgC_R - min_val) / (max_val - min_val)) * 255\n",
        "\n",
        "min_val = np.min(imgC_G)\n",
        "max_val = np.max(imgC_G)\n",
        "imgC_G = ((imgC_G - min_val) / (max_val - min_val)) * 255\n",
        "\n",
        "min_val = np.min(imgC_B)\n",
        "max_val = np.max(imgC_B)\n",
        "imgC_B = ((imgC_B - min_val) / (max_val - min_val)) * 255\n",
        "\n",
        "# データ型をuint8に戻す\n",
        "imgC_R = imgC_R.astype(np.uint8)\n",
        "imgC_G = imgC_G.astype(np.uint8)\n",
        "imgC_B = imgC_B.astype(np.uint8)\n",
        "\n",
        "# 画像Cを作成（初期状態ではすべてのピクセルが黒色）\n",
        "imgTR = np.zeros_like(imgA)\n",
        "imgTB = np.zeros_like(imgA)\n",
        "imgTG = np.zeros_like(imgA)\n",
        "imgC = np.zeros_like(imgA)\n",
        "# 画像CのBGRに相当するチャンネルをimgC_Rで置き換え\n",
        "imgC[:,:,2] = imgTR[:,:,2] = imgC_R\n",
        "imgC[:,:,0] = imgTB[:,:,0] = imgC_B\n",
        "imgC[:,:,1] = imgTG[:,:,1] = imgC_G\n",
        "# 画像Cを保存\n",
        "cv2.imwrite(\"imageC_R1undermode正規化.png\", imgTR)\n",
        "cv2.imwrite(\"imageC_B1undermode正規化.png\", imgTB)\n",
        "cv2.imwrite(\"imageC_G1undermode正規化.png\", imgTG)\n",
        "cv2.imwrite(\"imageC1undermode正規化.png\", imgC)\n",
        "\n",
        "max_value_r = np.max(imgC_R)\n",
        "min_value_r = np.min(imgC_R[imgC_R > 0])\n",
        "max_value_b = np.max(imgC_B)\n",
        "min_value_b = np.min(imgC_B[imgC_B > 0])\n",
        "max_value_g = np.max(imgC_G)\n",
        "min_value_g = np.min(imgC_G[imgC_G > 0])\n",
        "\n",
        "# 結果の出力\n",
        "print(f\"Rチャンネルの最大値: {max_value_r}\")\n",
        "print(f\"Rチャンネルの最小値: {min_value_r}\")\n",
        "print(f\"Bチャンネルの最大値: {max_value_b}\")\n",
        "print(f\"Bチャンネルの最小値: {min_value_b}\")\n",
        "print(f\"Gチャンネルの最大値: {max_value_g}\")\n",
        "print(f\"Gチャンネルの最小値: {min_value_g}\")"
      ],
      "metadata": {
        "id": "LexX94WKUHU4"
      },
      "execution_count": null,
      "outputs": []
    },
    {
      "cell_type": "code",
      "execution_count": null,
      "metadata": {
        "id": "lnj5pBXyonsd",
        "colab": {
          "base_uri": "https://localhost:8080/"
        },
        "outputId": "2c450702-5783-44fe-d8ad-b06a5a3518c7"
      },
      "outputs": [
        {
          "output_type": "stream",
          "name": "stdout",
          "text": [
            "Rチャンネルの最大値: 255\n",
            "Rチャンネルの最小値: 71\n",
            "Bチャンネルの最大値: 255\n",
            "Bチャンネルの最小値: 89\n",
            "Gチャンネルの最大値: 255\n",
            "Gチャンネルの最小値: 89\n"
          ]
        }
      ],
      "source": [
        "\n",
        "# ピクセル値を標準化\n",
        "mean_val = np.mean(imgC_R)\n",
        "std_val = np.std(imgC_R)\n",
        "imgC_R = (imgC_R - mean_val) / std_val\n",
        "\n",
        "mean_val = np.mean(imgC_G)\n",
        "std_val = np.std(imgC_G)\n",
        "imgC_G = (imgC_G - mean_val) / std_val\n",
        "\n",
        "mean_val = np.mean(imgC_B)\n",
        "std_val = np.std(imgC_B)\n",
        "imgC_B = (imgC_B - mean_val) / std_val\n",
        "\n",
        "# ピクセル値を平均127にスケーリング\n",
        "target_mean = 128\n",
        "imgC_R = imgC_R * std_val + target_mean\n",
        "imgC_G = imgC_G * std_val + target_mean\n",
        "imgC_B = imgC_B * std_val + target_mean\n",
        "\n",
        "# ピクセル値を0~255の範囲にクリップ\n",
        "imgC_R = np.clip(imgC_R, 0, 255)\n",
        "imgC_G = np.clip(imgC_G, 0, 255)\n",
        "imgC_B = np.clip(imgC_B, 0, 255)\n",
        "\n",
        "# データ型をuint8に戻す\n",
        "imgC_R = imgC_R.astype(np.uint8)\n",
        "imgC_G = imgC_G.astype(np.uint8)\n",
        "imgC_B = imgC_B.astype(np.uint8)\n",
        "\n",
        "# 画像Cを作成（初期状態ではすべてのピクセルが黒色）\n",
        "imgTR = np.zeros_like(imgA)\n",
        "imgTB = np.zeros_like(imgA)\n",
        "imgTG = np.zeros_like(imgA)\n",
        "imgC = np.zeros_like(imgA)\n",
        "# 画像CのBGRに相当するチャンネルをimgC_Rで置き換え\n",
        "imgC[:,:,2] = imgTR[:,:,2] = imgC_R\n",
        "imgC[:,:,0] = imgTB[:,:,0] = imgC_B\n",
        "imgC[:,:,1] = imgTG[:,:,1] = imgC_G\n",
        "# 画像Cを保存\n",
        "cv2.imwrite(\"imageC_R2-5a標準化.png\", imgTR)\n",
        "cv2.imwrite(\"imageC_B2-5a標準化.png\", imgTB)\n",
        "cv2.imwrite(\"imageC_G2-5a標準化.png\", imgTG)\n",
        "cv2.imwrite(\"imageC2-5a標準化.png\", imgC)\n",
        "\n",
        "max_value_r = np.max(imgC_R)\n",
        "min_value_r = np.min(imgC_R[imgC_R > 0])\n",
        "max_value_b = np.max(imgC_B)\n",
        "min_value_b = np.min(imgC_B[imgC_B > 0])\n",
        "max_value_g = np.max(imgC_G)\n",
        "min_value_g = np.min(imgC_G[imgC_G > 0])\n",
        "\n",
        "# 結果の出力\n",
        "print(f\"Rチャンネルの最大値: {max_value_r}\")\n",
        "print(f\"Rチャンネルの最小値: {min_value_r}\")\n",
        "print(f\"Bチャンネルの最大値: {max_value_b}\")\n",
        "print(f\"Bチャンネルの最小値: {min_value_b}\")\n",
        "print(f\"Gチャンネルの最大値: {max_value_g}\")\n",
        "print(f\"Gチャンネルの最小値: {min_value_g}\")"
      ]
    },
    {
      "cell_type": "code",
      "source": [
        "# ピクセル値を0以上に制限\n",
        "imgC_R = np.clip(imgC_R, 0, None)\n",
        "imgC_G = np.clip(imgC_G, 0, None)\n",
        "imgC_B = np.clip(imgC_B, 0, None)\n",
        "\n",
        "# ピクセル値を標準化\n",
        "mean_val = np.mean(imgC_R)\n",
        "std_val = np.std(imgC_R)\n",
        "imgC_R = (imgC_R - mean_val) / std_val\n",
        "\n",
        "mean_val = np.mean(imgC_G)\n",
        "std_val = np.std(imgC_G)\n",
        "imgC_G = (imgC_G - mean_val) / std_val\n",
        "\n",
        "mean_val = np.mean(imgC_B)\n",
        "std_val = np.std(imgC_B)\n",
        "imgC_B = (imgC_B - mean_val) / std_val\n",
        "\n",
        "# ピクセル値を平均127にスケーリング\n",
        "target_mean = 127\n",
        "imgC_R = imgC_R * std_val + target_mean\n",
        "imgC_G = imgC_G * std_val + target_mean\n",
        "imgC_B = imgC_B * std_val + target_mean\n",
        "# 正規化\n",
        "imgC_R = 255 * (imgC_R - np.min(imgC_R)) / (np.max(imgC_R) - np.min(imgC_R))\n",
        "imgC_G = 255 * (imgC_G - np.min(imgC_G)) / (np.max(imgC_G) - np.min(imgC_G))\n",
        "imgC_B = 255 * (imgC_B - np.min(imgC_B)) / (np.max(imgC_B) - np.min(imgC_B))\n",
        "\n",
        "# ピクセル値を0~255の範囲にクリップ\n",
        "imgC_R = np.clip(imgC_R, 0, 255)\n",
        "imgC_G = np.clip(imgC_G, 0, 255)\n",
        "imgC_B = np.clip(imgC_B, 0, 255)\n",
        "\n",
        "# データ型をuint8に戻す\n",
        "imgC_R = imgC_R.astype(np.uint8)\n",
        "imgC_G = imgC_G.astype(np.uint8)\n",
        "imgC_B = imgC_B.astype(np.uint8)\n",
        "\n",
        "# 画像Cを作成（初期状態ではすべてのピクセルが黒色）\n",
        "imgTR = np.zeros_like(imgA)\n",
        "imgTB = np.zeros_like(imgA)\n",
        "imgTG = np.zeros_like(imgA)\n",
        "imgC = np.zeros_like(imgA)\n",
        "# 画像CのBGRに相当するチャンネルをimgC_Rで置き換え\n",
        "imgC[:,:,2] = imgTR[:,:,2] = imgC_R\n",
        "imgC[:,:,0] = imgTB[:,:,0] = imgC_B\n",
        "imgC[:,:,1] = imgTG[:,:,1] = imgC_G\n",
        "# 画像Cを保存\n",
        "cv2.imwrite(\"imageC_R2-5標準化.png\", imgTR)\n",
        "cv2.imwrite(\"imageC_B2-5標準化.png\", imgTB)\n",
        "cv2.imwrite(\"imageC_G2-5標準化.png\", imgTG)\n",
        "cv2.imwrite(\"imageC2-5標準化.png\", imgC)\n",
        "\n",
        "max_value_r = np.max(imgC_R)\n",
        "min_value_r = np.min(imgC_R[imgC_R > 0])\n",
        "max_value_b = np.max(imgC_B)\n",
        "min_value_b = np.min(imgC_B[imgC_B > 0])\n",
        "max_value_g = np.max(imgC_G)\n",
        "min_value_g = np.min(imgC_G[imgC_G > 0])\n",
        "\n",
        "# 結果の出力\n",
        "print(f\"Rチャンネルの最大値: {max_value_r}\")\n",
        "print(f\"Rチャンネルの最小値: {min_value_r}\")\n",
        "print(f\"Bチャンネルの最大値: {max_value_b}\")\n",
        "print(f\"Bチャンネルの最小値: {min_value_b}\")\n",
        "print(f\"Gチャンネルの最大値: {max_value_g}\")\n",
        "print(f\"Gチャンネルの最小値: {min_value_g}\")"
      ],
      "metadata": {
        "colab": {
          "base_uri": "https://localhost:8080/"
        },
        "id": "3HNC42QtHfp4",
        "outputId": "c6393543-a9ca-4ed8-c4de-ad29a4c96083"
      },
      "execution_count": null,
      "outputs": [
        {
          "output_type": "stream",
          "name": "stdout",
          "text": [
            "Rチャンネルの最大値: 255\n",
            "Rチャンネルの最小値: 2\n",
            "Bチャンネルの最大値: 255\n",
            "Bチャンネルの最小値: 1\n",
            "Gチャンネルの最大値: 255\n",
            "Gチャンネルの最小値: 2\n"
          ]
        }
      ]
    },
    {
      "cell_type": "markdown",
      "source": [
        "↓オリジナル画像用 imgB"
      ],
      "metadata": {
        "id": "KdhH7NBgXdps"
      }
    },
    {
      "cell_type": "code",
      "source": [
        "# 画像Cを作成（初期状態ではすべてのピクセルが黒色）\n",
        "imgTR = np.zeros_like(imgA)\n",
        "imgTB = np.zeros_like(imgA)\n",
        "imgTG = np.zeros_like(imgA)\n",
        "# 画像CのBGRに相当するチャンネルをimgC_Rで置き換え\n",
        "imgTR[:,:,2] = imgB_R.astype(np.uint8)\n",
        "imgTB[:,:,0] = imgB_B.astype(np.uint8)\n",
        "imgTG[:,:,1] = imgB_G.astype(np.uint8)\n",
        "\n",
        "# 画像Cを保存\n",
        "cv2.imwrite(\"image4_R.png\", imgTR)\n",
        "cv2.imwrite(\"image4_B.png\", imgTB)\n",
        "cv2.imwrite(\"image4_G.png\", imgTG)\n"
      ],
      "metadata": {
        "id": "nngsz0cx8_h3",
        "colab": {
          "base_uri": "https://localhost:8080/"
        },
        "outputId": "2211b405-1cc1-4cc4-b390-b51657749efc"
      },
      "execution_count": null,
      "outputs": [
        {
          "output_type": "execute_result",
          "data": {
            "text/plain": [
              "True"
            ]
          },
          "metadata": {},
          "execution_count": 9
        }
      ]
    },
    {
      "cell_type": "code",
      "source": [
        "imgC = np.zeros_like(imgA)\n",
        "imgC[:,:,2] = imgB_R.astype(np.uint8)\n",
        "imgC[:,:,0] = imgA_B.astype(np.uint8)\n",
        "imgC[:,:,1] = imgA_G.astype(np.uint8)\n",
        "cv2.imwrite(\"5R2GB.png\", imgC)"
      ],
      "metadata": {
        "colab": {
          "base_uri": "https://localhost:8080/"
        },
        "id": "FW2jYfj48ZJG",
        "outputId": "aa75b359-03ea-48f5-c905-dcb408d53291"
      },
      "execution_count": null,
      "outputs": [
        {
          "output_type": "execute_result",
          "data": {
            "text/plain": [
              "True"
            ]
          },
          "metadata": {},
          "execution_count": 13
        }
      ]
    },
    {
      "cell_type": "code",
      "execution_count": null,
      "metadata": {
        "id": "nixPFYlomv7_",
        "colab": {
          "base_uri": "https://localhost:8080/",
          "height": 484
        },
        "outputId": "ab725779-260d-4568-ae82-7a5935870337"
      },
      "outputs": [
        {
          "output_type": "display_data",
          "data": {
            "text/plain": [
              "<Figure size 1200x600 with 1 Axes>"
            ],
            "image/png": "[encoded data removed]"
          },
          "metadata": {}
        }
      ],
      "source": [
        "import cv2\n",
        "import matplotlib.pyplot as plt\n",
        "import numpy as np\n",
        "\n",
        "# カラーヒストグラムを計算する関数\n",
        "def calculate_histogram(image_path):\n",
        "    # 画像の読み込み\n",
        "    img = cv2.imread(image_path)\n",
        "    # BGRからRGBに変換\n",
        "    img_rgb = cv2.cvtColor(img, cv2.COLOR_BGR2RGB)\n",
        "\n",
        "    # チャンネルごとのヒストグラムを初期化\n",
        "    hist = {\n",
        "        'Red': np.zeros(256),\n",
        "        'Green': np.zeros(256),\n",
        "        'Blue': np.zeros(256)\n",
        "    }\n",
        "\n",
        "    # 画像の高さと幅を取得\n",
        "    height, width, _ = img.shape\n",
        "\n",
        "    # カラーヒストグラムの計算\n",
        "    for i in range(height):\n",
        "        for j in range(width):\n",
        "            pixel = img_rgb[i, j]\n",
        "            if not np.all(pixel == 0):  # 各チャンネルがすべて0でない場合のみ計算\n",
        "                hist['Red'][pixel[0]] += 1\n",
        "                hist['Green'][pixel[1]] += 1\n",
        "                hist['Blue'][pixel[2]] += 1\n",
        "\n",
        "    return hist\n",
        "\n",
        "# カラーヒストグラムを表示する関数\n",
        "def plot_histogram(hist):\n",
        "    colors = ['Red', 'Green', 'Blue']\n",
        "    plt.figure(figsize=(12, 6))\n",
        "\n",
        "    for color in colors:\n",
        "        plt.plot(hist[color], label=color)\n",
        "\n",
        "    plt.title('Color Histogram')\n",
        "    plt.xlabel('Pixel Value')\n",
        "    plt.ylabel('Frequency')\n",
        "    plt.legend()\n",
        "    plt.show()\n",
        "\n",
        "# 画像のパス\n",
        "image_path = '/content/imageC_R4-5正規化.png'\n",
        "# カラーヒストグラムの計算\n",
        "histogram = calculate_histogram(image_path)\n",
        "\n",
        "# カラーヒストグラムを表示\n",
        "plot_histogram(histogram)"
      ]
    }
  ],
  "metadata": {
    "colab": {
      "provenance": []
    },
    "kernelspec": {
      "display_name": "Python 3",
      "name": "python3"
    },
    "language_info": {
      "name": "python"
    }
  },
  "nbformat": 4,
  "nbformat_minor": 0
}