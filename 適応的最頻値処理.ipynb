{
  "nbformat": 4,
  "nbformat_minor": 0,
  "metadata": {
    "colab": {
      "provenance": []
    },
    "kernelspec": {
      "name": "python3",
      "display_name": "Python 3"
    },
    "language_info": {
      "name": "python"
    }
  },
  "cells": [
    {
      "cell_type": "code",
      "execution_count": null,
      "metadata": {
        "colab": {
          "base_uri": "https://localhost:8080/"
        },
        "id": "nZyA9sSK4fSW",
        "outputId": "ecd8133d-82ef-4c0e-d8e6-b4f409a2ea17"
      },
      "outputs": [
        {
          "output_type": "execute_result",
          "data": {
            "text/plain": [
              "True"
            ]
          },
          "metadata": {},
          "execution_count": 34
        }
      ],
      "source": [
        "\n",
        "import cv2\n",
        "import numpy as np\n",
        "from scipy import stats\n",
        "\n",
        "# 画像の読込(BGR)\n",
        "imgA = cv2.imread(\"/content/potato-aibs5big.png\")\n",
        "\n",
        "# 画像のRチャンネル抽出R2G1B0\n",
        "imgA_R = imgA[:,:,2].astype(np.int16)\n",
        "\n",
        "# 矩形のサイズを定義\n",
        "kernel_size = 5\n",
        "\n",
        "# 出力画像を初期化\n",
        "imgC_R = np.zeros_like(imgA_R)\n",
        "\n",
        "# 画像の高さと幅を取得\n",
        "height, width = imgA_R.shape\n",
        "\n",
        "# 画像をスキャン\n",
        "for y in range(height):\n",
        "    for x in range(width):\n",
        "        # 矩形領域の範囲を計算\n",
        "        x_start = max(0, x - kernel_size // 2)\n",
        "        x_end = min(width, x + kernel_size // 2)\n",
        "        y_start = max(0, y - kernel_size // 2)\n",
        "        y_end = min(height, y + kernel_size // 2)\n",
        "\n",
        "        # 矩形領域のデータを取得\n",
        "        region = imgA_R[y_start:y_end, x_start:x_end]\n",
        "\n",
        "        # 0以外の値を抽出\n",
        "        nonzero_values = region[region != 0]\n",
        "\n",
        "        # 最頻値を計算\n",
        "        mode_value = stats.mode(nonzero_values)[0]\n",
        "\n",
        "        # 元の画像のピクセル値が最頻値より大きければ0に、そうでなければ元の値を保持\n",
        "        imgC_R[y, x] = mode_value if imgA_R[y, x] > mode_value else imgA_R[y, x]\n",
        "\n",
        "# ピクセル値を0以上に制限\n",
        "imgC_R = np.clip(imgC_R, 0, None)\n",
        "\n",
        "\n",
        "# データ型をuint8に戻す\n",
        "imgC_R = imgC_R.astype(np.uint8)\n",
        "\n",
        "# 画像Cを作成（初期状態ではすべてのピクセルが黒色）\n",
        "imgC = np.zeros_like(imgA)\n",
        "# 画像CのRチャンネルをimgC_Rで置き換え\n",
        "imgC[:,:,2] = imgC_R\n",
        "\n",
        "# 画像Cを保存\n",
        "cv2.imwrite(\"R5適応的最頻値処理5.png\", imgC)\n"
      ]
    },
    {
      "cell_type": "code",
      "source": [
        "import cv2\n",
        "import numpy as np\n",
        "from scipy import stats\n",
        "\n",
        "# 画像の読込(BGR)\n",
        "imgA = cv2.imread(\"/content/potato-aibs2big.png\")\n",
        "\n",
        "# 画像のRチャンネル抽出R2G1B0\n",
        "imgA_R = imgA[:,:,2].astype(np.int16)\n",
        "\n",
        "# 矩形のサイズを定義\n",
        "kernel_size = 5\n",
        "\n",
        "# 出力画像を初期化\n",
        "imgC_R = np.zeros_like(imgA_R)\n",
        "\n",
        "# 画像の高さと幅を取得\n",
        "height, width = imgA_R.shape\n",
        "\n",
        "# 画像をスキャン\n",
        "for y in range(height):\n",
        "    for x in range(width):\n",
        "        # 矩形領域の範囲を計算\n",
        "        x_start = max(0, x - kernel_size // 2)\n",
        "        x_end = min(width, x + kernel_size // 2)\n",
        "        y_start = max(0, y - kernel_size // 2)\n",
        "        y_end = min(height, y + kernel_size // 2)\n",
        "\n",
        "        # 矩形領域のデータを取得\n",
        "        region = imgA_R[y_start:y_end, x_start:x_end]\n",
        "\n",
        "        # 0以外の値を抽出\n",
        "        nonzero_values = region[region != 0]\n",
        "\n",
        "        # 最頻値を計算\n",
        "        mode_value = stats.mode(nonzero_values)[0]\n",
        "\n",
        "        # 元の画像のピクセル値が最頻値より大きければ0に、そうでなければ元の値を保持\n",
        "        imgC_R[y, x] = mode_value if imgA_R[y, x] > mode_value else imgA_R[y, x]\n",
        "\n",
        "# ピクセル値を0以上に制限\n",
        "imgC_R = np.clip(imgC_R, 0, None)\n",
        "\n",
        "# 0以外の値を抽出\n",
        "nonzero_imgC_R = imgC_R[imgC_R != 0]\n",
        "\n",
        "# ピクセル値を0~255の範囲に正規化\n",
        "min_val = np.min(nonzero_imgC_R)\n",
        "max_val = np.max(nonzero_imgC_R)\n",
        "imgC_R[imgC_R != 0] = ((nonzero_imgC_R - min_val) / (max_val - min_val)) * 255\n",
        "\n",
        "# データ型をuint8に戻す\n",
        "imgC_R = imgC_R.astype(np.uint8)\n",
        "\n",
        "# 画像Cを作成（初期状態ではすべてのピクセルが黒色）\n",
        "imgC = np.zeros_like(imgA)\n",
        "# 画像CのRチャンネルをimgC_Rで置き換え\n",
        "imgC[:,:,2] = imgC_R\n",
        "\n",
        "# 画像Cを保存\n",
        "cv2.imwrite(\"imageC_R2適応的最頻値処理5.png\", imgC)"
      ],
      "metadata": {
        "colab": {
          "base_uri": "https://localhost:8080/"
        },
        "id": "BW1Muj7WE0qL",
        "outputId": "ea130502-1f73-4533-e7f6-75d343608ff7"
      },
      "execution_count": null,
      "outputs": [
        {
          "output_type": "execute_result",
          "data": {
            "text/plain": [
              "True"
            ]
          },
          "metadata": {},
          "execution_count": 15
        }
      ]
    },
    {
      "cell_type": "code",
      "source": [
        "import cv2\n",
        "import numpy as np\n",
        "# 画像の読込(BGR)\n",
        "imgR = cv2.imread(\"/content/R5適応的最頻値処理45.png\")\n",
        "imgB = cv2.imread(\"/content/B5適応的最頻値処理45.png\")\n",
        "imgG = cv2.imread(\"/content/G5適応的最頻値処理45.png\")\n",
        "\n",
        "imgC = np.zeros_like(imgR)\n",
        "imgC[:,:,2] = imgC_R = imgR[:,:,2]\n",
        "imgC[:,:,0] = imgC_B = imgB[:,:,0]\n",
        "imgC[:,:,1] = imgC_G = imgG[:,:,1]\n",
        "\n",
        "cv2.imwrite(\"RGB5適応的最頻値処理45.png\", imgC)"
      ],
      "metadata": {
        "colab": {
          "base_uri": "https://localhost:8080/"
        },
        "id": "DCE_ytrcgZ5c",
        "outputId": "34a428ea-1097-4908-c286-44669dc583b0"
      },
      "execution_count": null,
      "outputs": [
        {
          "output_type": "execute_result",
          "data": {
            "text/plain": [
              "True"
            ]
          },
          "metadata": {},
          "execution_count": 5
        }
      ]
    },
    {
      "cell_type": "code",
      "source": [],
      "metadata": {
        "id": "vf7SotYQmW7h"
      },
      "execution_count": null,
      "outputs": []
    }
  ]
}